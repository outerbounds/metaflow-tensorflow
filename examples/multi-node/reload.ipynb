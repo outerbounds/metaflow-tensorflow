{
 "cells": [
  {
   "cell_type": "code",
   "execution_count": null,
   "metadata": {},
   "outputs": [],
   "source": [
    "from metaflow import Flow, S3\n",
    "import tensorflow as tf\n",
    "import tarfile\n",
    "import os"
   ]
  },
  {
   "cell_type": "code",
   "execution_count": null,
   "metadata": {},
   "outputs": [],
   "source": [
    "FLOW_NAME='MultiNodeTensorFlow'\n",
    "model_unzip_path = 'model'"
   ]
  },
  {
   "cell_type": "code",
   "execution_count": null,
   "metadata": {},
   "outputs": [],
   "source": [
    "flow = Flow(FLOW_NAME)\n",
    "run = flow.latest_successful_run\n",
    "_s3 = S3(run=run)\n",
    "s3obj = _s3.get(run.data.tarfile)"
   ]
  },
  {
   "cell_type": "code",
   "execution_count": null,
   "metadata": {},
   "outputs": [],
   "source": [
    "_file = tarfile.open(s3obj.path)\n",
    "_file.extractall(model_unzip_path)\n",
    "_file.close()\n",
    "_s3.close()"
   ]
  },
  {
   "cell_type": "code",
   "execution_count": null,
   "metadata": {},
   "outputs": [],
   "source": [
    "load_path = os.path.join(os.getcwd(), model_unzip_path, run.data.local_model_dir)\n",
    "model = tf.keras.models.load_model(load_path)"
   ]
  },
  {
   "cell_type": "code",
   "execution_count": null,
   "metadata": {},
   "outputs": [],
   "source": [
    "import tensorflow as tf\n",
    "(x_train, y_train), (x_valid, y_valid)  = tf.keras.datasets.mnist.load_data()\n",
    "probs = model.predict(x_valid)\n",
    "preds = probs.argmax(axis=1)\n",
    "correct_pred_ct = (preds == y_valid).sum()\n",
    "accuracy = correct_pred_ct / preds.shape[0]\n",
    "print(\"Accuracy: %.2f%%\" % (accuracy * 100.0))"
   ]
  }
 ],
 "metadata": {
  "kernelspec": {
   "display_name": "jobset",
   "language": "python",
   "name": "python3"
  },
  "language_info": {
   "codemirror_mode": {
    "name": "ipython",
    "version": 3
   },
   "file_extension": ".py",
   "mimetype": "text/x-python",
   "name": "python",
   "nbconvert_exporter": "python",
   "pygments_lexer": "ipython3",
   "version": "3.11.5"
  },
  "orig_nbformat": 4
 },
 "nbformat": 4,
 "nbformat_minor": 2
}
