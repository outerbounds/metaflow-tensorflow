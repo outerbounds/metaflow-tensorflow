{
 "cells": [
  {
   "cell_type": "code",
   "execution_count": 1,
   "metadata": {},
   "outputs": [],
   "source": [
    "from metaflow import Flow, S3\n",
    "import tensorflow as tf\n",
    "import tarfile\n",
    "import os"
   ]
  },
  {
   "cell_type": "code",
   "execution_count": null,
   "metadata": {},
   "outputs": [],
   "source": []
  },
  {
   "cell_type": "code",
   "execution_count": 2,
   "metadata": {},
   "outputs": [],
   "source": [
    "FLOW_NAME='MultiNodeTensorFlow'\n",
    "model_unzip_path = 'model'"
   ]
  },
  {
   "cell_type": "code",
   "execution_count": null,
   "metadata": {},
   "outputs": [],
   "source": []
  },
  {
   "cell_type": "code",
   "execution_count": 3,
   "metadata": {},
   "outputs": [
    {
     "ename": "MetaflowNotFound",
     "evalue": "Flow('MultiNodeTensorFlow') does not exist",
     "output_type": "error",
     "traceback": [
      "\u001b[0;31m---------------------------------------------------------------------------\u001b[0m",
      "\u001b[0;31mMetaflowNotFound\u001b[0m                          Traceback (most recent call last)",
      "\u001b[1;32m/Users/eddie/Dev/metaflow-tensorflow/examples/multi-node/reload.ipynb Cell 3\u001b[0m line \u001b[0;36m1\n\u001b[0;32m----> <a href='vscode-notebook-cell:/Users/eddie/Dev/metaflow-tensorflow/examples/multi-node/reload.ipynb#W2sZmlsZQ%3D%3D?line=0'>1</a>\u001b[0m flow \u001b[39m=\u001b[39m Flow(FLOW_NAME)\n\u001b[1;32m      <a href='vscode-notebook-cell:/Users/eddie/Dev/metaflow-tensorflow/examples/multi-node/reload.ipynb#W2sZmlsZQ%3D%3D?line=1'>2</a>\u001b[0m run \u001b[39m=\u001b[39m flow\u001b[39m.\u001b[39mlatest_successful_run\n\u001b[1;32m      <a href='vscode-notebook-cell:/Users/eddie/Dev/metaflow-tensorflow/examples/multi-node/reload.ipynb#W2sZmlsZQ%3D%3D?line=2'>3</a>\u001b[0m _s3 \u001b[39m=\u001b[39m S3(run\u001b[39m=\u001b[39mrun)\n",
      "File \u001b[0;32m~/mambaforge/envs/jobset/lib/python3.11/site-packages/metaflow/client/core.py:2022\u001b[0m, in \u001b[0;36mFlow.__init__\u001b[0;34m(self, *args, **kwargs)\u001b[0m\n\u001b[1;32m   2021\u001b[0m \u001b[39mdef\u001b[39;00m \u001b[39m__init__\u001b[39m(\u001b[39mself\u001b[39m, \u001b[39m*\u001b[39margs, \u001b[39m*\u001b[39m\u001b[39m*\u001b[39mkwargs):\n\u001b[0;32m-> 2022\u001b[0m     \u001b[39msuper\u001b[39;49m(Flow, \u001b[39mself\u001b[39;49m)\u001b[39m.\u001b[39;49m\u001b[39m__init__\u001b[39;49m(\u001b[39m*\u001b[39;49margs, \u001b[39m*\u001b[39;49m\u001b[39m*\u001b[39;49mkwargs)\n",
      "File \u001b[0;32m~/mambaforge/envs/jobset/lib/python3.11/site-packages/metaflow/client/core.py:305\u001b[0m, in \u001b[0;36mMetaflowObject.__init__\u001b[0;34m(self, pathspec, attempt, _object, _parent, _namespace_check)\u001b[0m\n\u001b[1;32m    303\u001b[0m     \u001b[39mself\u001b[39m\u001b[39m.\u001b[39mid \u001b[39m=\u001b[39m ids[\u001b[39m-\u001b[39m\u001b[39m1\u001b[39m]\n\u001b[1;32m    304\u001b[0m     \u001b[39mself\u001b[39m\u001b[39m.\u001b[39m_pathspec \u001b[39m=\u001b[39m pathspec\n\u001b[0;32m--> 305\u001b[0m     \u001b[39mself\u001b[39m\u001b[39m.\u001b[39m_object \u001b[39m=\u001b[39m \u001b[39mself\u001b[39;49m\u001b[39m.\u001b[39;49m_get_object(\u001b[39m*\u001b[39;49mids)\n\u001b[1;32m    306\u001b[0m \u001b[39melse\u001b[39;00m:\n\u001b[1;32m    307\u001b[0m     \u001b[39mself\u001b[39m\u001b[39m.\u001b[39m_object \u001b[39m=\u001b[39m _object\n",
      "File \u001b[0;32m~/mambaforge/envs/jobset/lib/python3.11/site-packages/metaflow/client/core.py:337\u001b[0m, in \u001b[0;36mMetaflowObject._get_object\u001b[0;34m(self, *path_components)\u001b[0m\n\u001b[1;32m    333\u001b[0m result \u001b[39m=\u001b[39m \u001b[39mself\u001b[39m\u001b[39m.\u001b[39m_metaflow\u001b[39m.\u001b[39mmetadata\u001b[39m.\u001b[39mget_object(\n\u001b[1;32m    334\u001b[0m     \u001b[39mself\u001b[39m\u001b[39m.\u001b[39m_NAME, \u001b[39m\"\u001b[39m\u001b[39mself\u001b[39m\u001b[39m\"\u001b[39m, \u001b[39mNone\u001b[39;00m, \u001b[39mself\u001b[39m\u001b[39m.\u001b[39m_attempt, \u001b[39m*\u001b[39mpath_components\n\u001b[1;32m    335\u001b[0m )\n\u001b[1;32m    336\u001b[0m \u001b[39mif\u001b[39;00m \u001b[39mnot\u001b[39;00m result:\n\u001b[0;32m--> 337\u001b[0m     \u001b[39mraise\u001b[39;00m MetaflowNotFound(\u001b[39m\"\u001b[39m\u001b[39m%s\u001b[39;00m\u001b[39m does not exist\u001b[39m\u001b[39m\"\u001b[39m \u001b[39m%\u001b[39m \u001b[39mself\u001b[39m)\n\u001b[1;32m    338\u001b[0m \u001b[39mreturn\u001b[39;00m result\n",
      "\u001b[0;31mMetaflowNotFound\u001b[0m: Flow('MultiNodeTensorFlow') does not exist"
     ]
    }
   ],
   "source": [
    "flow = Flow(FLOW_NAME)\n",
    "run = flow.latest_successful_run\n",
    "_s3 = S3(run=run)\n",
    "s3obj = _s3.get(run.data.tarfile)"
   ]
  },
  {
   "cell_type": "code",
   "execution_count": null,
   "metadata": {},
   "outputs": [],
   "source": [
    "_file = tarfile.open(s3obj.path)\n",
    "_file.extractall(model_unzip_path)\n",
    "_file.close()\n",
    "_s3.close()"
   ]
  },
  {
   "cell_type": "code",
   "execution_count": null,
   "metadata": {},
   "outputs": [],
   "source": [
    "load_path = os.path.join(os.getcwd(), model_unzip_path, run.data.local_model_dir)\n",
    "model = tf.keras.models.load_model(load_path)"
   ]
  },
  {
   "cell_type": "code",
   "execution_count": null,
   "metadata": {},
   "outputs": [],
   "source": [
    "import tensorflow as tf\n",
    "(x_train, y_train), (x_valid, y_valid)  = tf.keras.datasets.mnist.load_data()\n",
    "probs = model.predict(x_valid)\n",
    "preds = probs.argmax(axis=1)\n",
    "correct_pred_ct = (preds == y_valid).sum()\n",
    "accuracy = correct_pred_ct / preds.shape[0]\n",
    "print(\"Accuracy: %.2f%%\" % (accuracy * 100.0))"
   ]
  }
 ],
 "metadata": {
  "kernelspec": {
   "display_name": "jobset",
   "language": "python",
   "name": "python3"
  },
  "language_info": {
   "codemirror_mode": {
    "name": "ipython",
    "version": 3
   },
   "file_extension": ".py",
   "mimetype": "text/x-python",
   "name": "python",
   "nbconvert_exporter": "python",
   "pygments_lexer": "ipython3",
   "version": "3.11.5"
  },
  "orig_nbformat": 4
 },
 "nbformat": 4,
 "nbformat_minor": 2
}
